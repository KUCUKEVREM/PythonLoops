{
 "cells": [
  {
   "cell_type": "code",
   "execution_count": 3,
   "id": "5168fb13",
   "metadata": {},
   "outputs": [],
   "source": [
    "benim_listem = [40,50,60,70,80,90,100]"
   ]
  },
  {
   "cell_type": "code",
   "execution_count": 4,
   "id": "8c0e7028",
   "metadata": {},
   "outputs": [
    {
     "data": {
      "text/plain": [
       "48.0"
      ]
     },
     "execution_count": 4,
     "metadata": {},
     "output_type": "execute_result"
    }
   ],
   "source": [
    "benim_listem[0] /5 *6"
   ]
  },
  {
   "cell_type": "code",
   "execution_count": 5,
   "id": "46853790",
   "metadata": {},
   "outputs": [
    {
     "data": {
      "text/plain": [
       "60.0"
      ]
     },
     "execution_count": 5,
     "metadata": {},
     "output_type": "execute_result"
    }
   ],
   "source": [
    "benim_listem[1] /5 *6"
   ]
  },
  {
   "cell_type": "code",
   "execution_count": 6,
   "id": "367c369f",
   "metadata": {},
   "outputs": [],
   "source": [
    "#for döngüsü"
   ]
  },
  {
   "cell_type": "code",
   "execution_count": 7,
   "id": "ee0b30f5",
   "metadata": {},
   "outputs": [
    {
     "name": "stdout",
     "output_type": "stream",
     "text": [
      "döngü başladı\n",
      "48.0\n",
      "60.0\n",
      "72.0\n",
      "84.0\n",
      "96.0\n",
      "108.0\n",
      "120.0\n",
      "döngü bitti\n",
      "bunlar sonradan çalıştırılıyor\n"
     ]
    }
   ],
   "source": [
    "print(\"döngü başladı\")\n",
    "for numara in benim_listem:\n",
    "    print(numara / 5*6)\n",
    "print(\"döngü bitti\")\n",
    "print(\"bunlar sonradan çalıştırılıyor\")"
   ]
  },
  {
   "cell_type": "code",
   "execution_count": 8,
   "id": "03b1f437",
   "metadata": {},
   "outputs": [
    {
     "name": "stdout",
     "output_type": "stream",
     "text": [
      "8.0\n",
      "10.0\n",
      "12.0\n",
      "14.0\n",
      "16.0\n",
      "18.0\n",
      "20.0\n"
     ]
    }
   ],
   "source": [
    "for eleman in benim_listem:\n",
    "    yeni_numara = eleman / 5\n",
    "    print(yeni_numara)"
   ]
  },
  {
   "cell_type": "code",
   "execution_count": 9,
   "id": "48ae4c57",
   "metadata": {},
   "outputs": [],
   "source": [
    "yeni_listemiz = [10,2032,132,3534,122,131,153,175,179,1379]"
   ]
  },
  {
   "cell_type": "code",
   "execution_count": 10,
   "id": "4a024212",
   "metadata": {},
   "outputs": [
    {
     "name": "stdout",
     "output_type": "stream",
     "text": [
      "10\n",
      "2032\n",
      "132\n",
      "3534\n",
      "122\n"
     ]
    }
   ],
   "source": [
    "for sayi in yeni_listemiz:\n",
    "    if sayi % 2 == 0:\n",
    "        print(sayi)"
   ]
  },
  {
   "cell_type": "code",
   "execution_count": 11,
   "id": "a62332da",
   "metadata": {},
   "outputs": [],
   "source": [
    "benim_adim = \"merve şimşek\""
   ]
  },
  {
   "cell_type": "code",
   "execution_count": 12,
   "id": "4807c49e",
   "metadata": {},
   "outputs": [
    {
     "name": "stdout",
     "output_type": "stream",
     "text": [
      "m\n",
      "e\n",
      "r\n",
      "v\n",
      "e\n",
      " \n",
      "ş\n",
      "i\n",
      "m\n",
      "ş\n",
      "e\n",
      "k\n"
     ]
    }
   ],
   "source": [
    "for harf in benim_adim:\n",
    "    print(harf)"
   ]
  },
  {
   "cell_type": "code",
   "execution_count": 13,
   "id": "1928f7c7",
   "metadata": {},
   "outputs": [],
   "source": [
    "benim_tuple = (10,20,30,40,50,60)"
   ]
  },
  {
   "cell_type": "code",
   "execution_count": 14,
   "id": "d63dcb2d",
   "metadata": {},
   "outputs": [
    {
     "name": "stdout",
     "output_type": "stream",
     "text": [
      "100\n",
      "200\n",
      "300\n",
      "400\n",
      "500\n",
      "600\n"
     ]
    }
   ],
   "source": [
    "for eleman in benim_tuple:\n",
    "    print(eleman * 10)"
   ]
  },
  {
   "cell_type": "code",
   "execution_count": 15,
   "id": "498ae7ec",
   "metadata": {},
   "outputs": [],
   "source": [
    "karmasik_liste = [(3,5),(4,5),(9,10),(11,20)]"
   ]
  },
  {
   "cell_type": "code",
   "execution_count": 16,
   "id": "b3e3176e",
   "metadata": {},
   "outputs": [
    {
     "data": {
      "text/plain": [
       "(9, 10)"
      ]
     },
     "execution_count": 16,
     "metadata": {},
     "output_type": "execute_result"
    }
   ],
   "source": [
    "karmasik_liste[2]"
   ]
  },
  {
   "cell_type": "code",
   "execution_count": 17,
   "id": "5f8a33f5",
   "metadata": {},
   "outputs": [
    {
     "name": "stdout",
     "output_type": "stream",
     "text": [
      "(3, 5)\n",
      "(4, 5)\n",
      "(9, 10)\n",
      "(11, 20)\n"
     ]
    }
   ],
   "source": [
    "for eleman in karmasik_liste:\n",
    "    print(eleman)"
   ]
  },
  {
   "cell_type": "code",
   "execution_count": 18,
   "id": "bbdd626d",
   "metadata": {},
   "outputs": [
    {
     "name": "stdout",
     "output_type": "stream",
     "text": [
      "3\n",
      "4\n",
      "9\n",
      "11\n"
     ]
    }
   ],
   "source": [
    "for (x,y) in karmasik_liste:\n",
    "    print(x)"
   ]
  },
  {
   "cell_type": "code",
   "execution_count": 19,
   "id": "d4a6667a",
   "metadata": {},
   "outputs": [],
   "source": [
    "kalori_sözlük = {\"muz\":100,\"elma\":200, \"karpuz\":300}"
   ]
  },
  {
   "cell_type": "code",
   "execution_count": 20,
   "id": "f9e2181d",
   "metadata": {},
   "outputs": [
    {
     "data": {
      "text/plain": [
       "dict_items([('muz', 100), ('elma', 200), ('karpuz', 300)])"
      ]
     },
     "execution_count": 20,
     "metadata": {},
     "output_type": "execute_result"
    }
   ],
   "source": [
    "kalori_sözlük.items()"
   ]
  },
  {
   "cell_type": "code",
   "execution_count": 21,
   "id": "4cb85823",
   "metadata": {},
   "outputs": [
    {
     "name": "stdout",
     "output_type": "stream",
     "text": [
      "muz\n",
      "elma\n",
      "karpuz\n"
     ]
    }
   ],
   "source": [
    "for (anahtar, değer) in kalori_sözlük.items():\n",
    "    print(anahtar)"
   ]
  },
  {
   "cell_type": "code",
   "execution_count": 22,
   "id": "10aab958",
   "metadata": {},
   "outputs": [],
   "source": [
    "uzun_liste = [10,20,30,40,50,60,70,80,90,100,110]"
   ]
  },
  {
   "cell_type": "code",
   "execution_count": 23,
   "id": "64e9f6ee",
   "metadata": {},
   "outputs": [
    {
     "name": "stdout",
     "output_type": "stream",
     "text": [
      "2.0\n",
      "4.0\n",
      "6.0\n",
      "8.0\n",
      "10.0\n",
      "12.0\n",
      "14.0\n",
      "16.0\n",
      "18.0\n",
      "20.0\n",
      "22.0\n"
     ]
    }
   ],
   "source": [
    "for numara in uzun_liste:\n",
    "    print(numara / 5)"
   ]
  },
  {
   "cell_type": "code",
   "execution_count": 24,
   "id": "197a4433",
   "metadata": {},
   "outputs": [
    {
     "name": "stdout",
     "output_type": "stream",
     "text": [
      "10\n",
      "20\n",
      "30\n",
      "40\n"
     ]
    }
   ],
   "source": [
    "for numara in uzun_liste:\n",
    "    if numara == 50:\n",
    "        break\n",
    "    print(numara)"
   ]
  },
  {
   "cell_type": "code",
   "execution_count": 25,
   "id": "f722b874",
   "metadata": {},
   "outputs": [
    {
     "name": "stdout",
     "output_type": "stream",
     "text": [
      "10\n",
      "20\n",
      "30\n",
      "40\n",
      "60\n",
      "70\n",
      "80\n",
      "90\n",
      "100\n",
      "110\n"
     ]
    }
   ],
   "source": [
    "for numara in uzun_liste:\n",
    "    if numara == 50:\n",
    "        continue\n",
    "    print(numara)"
   ]
  },
  {
   "cell_type": "code",
   "execution_count": 26,
   "id": "6786b97b",
   "metadata": {},
   "outputs": [],
   "source": [
    "for numara in uzun_liste:\n",
    "      pass"
   ]
  },
  {
   "cell_type": "code",
   "execution_count": 27,
   "id": "3e616542",
   "metadata": {},
   "outputs": [],
   "source": [
    "# while döngüsü"
   ]
  },
  {
   "cell_type": "code",
   "execution_count": 28,
   "id": "d4df2517",
   "metadata": {},
   "outputs": [
    {
     "name": "stdout",
     "output_type": "stream",
     "text": [
      "0\n",
      "1\n",
      "2\n",
      "3\n",
      "4\n",
      "5\n",
      "6\n",
      "7\n",
      "8\n",
      "9\n"
     ]
    }
   ],
   "source": [
    "a = 0\n",
    "while a < 10:\n",
    "    print(a)\n",
    "    a = a + 1"
   ]
  },
  {
   "cell_type": "code",
   "execution_count": 29,
   "id": "9df1cd2a",
   "metadata": {},
   "outputs": [
    {
     "name": "stdout",
     "output_type": "stream",
     "text": [
      "0\n",
      "1\n",
      "2\n",
      "3\n",
      "4\n",
      "5\n",
      "6\n",
      "7\n",
      "8\n",
      "9\n"
     ]
    }
   ],
   "source": [
    "a = 0\n",
    "while a < 10:\n",
    "    print(a)\n",
    "    a = a + 1"
   ]
  },
  {
   "cell_type": "code",
   "execution_count": null,
   "id": "09c2a85e",
   "metadata": {},
   "outputs": [],
   "source": []
  },
  {
   "cell_type": "code",
   "execution_count": null,
   "id": "b6522684",
   "metadata": {},
   "outputs": [],
   "source": []
  }
 ],
 "metadata": {
  "kernelspec": {
   "display_name": "Python 3 (ipykernel)",
   "language": "python",
   "name": "python3"
  },
  "language_info": {
   "codemirror_mode": {
    "name": "ipython",
    "version": 3
   },
   "file_extension": ".py",
   "mimetype": "text/x-python",
   "name": "python",
   "nbconvert_exporter": "python",
   "pygments_lexer": "ipython3",
   "version": "3.9.12"
  }
 },
 "nbformat": 4,
 "nbformat_minor": 5
}
